{
 "cells": [
  {
   "cell_type": "markdown",
   "id": "f9a2dbe2",
   "metadata": {},
   "source": [
    "#  Методы оценки АВ тестов "
   ]
  },
  {
   "cell_type": "markdown",
   "id": "792f0a0a",
   "metadata": {},
   "source": [
    "Предисловие:\n",
    "1. Для каждого теста содержится код с необходимыми библиотеками, чтобы можно было запускать автономно.\n",
    "2. Можно и нужно импортировать свои данные, для этого либо заведены объекты df, либо переменные\n",
    "3.  Во всех тестах нулевая и альтернативная гипотезы:\n",
    "\n",
    "\n",
    "##### H0: Между группами нет разницы\n",
    "##### H1: Между группами есть статистически значимая разница"
   ]
  },
  {
   "cell_type": "markdown",
   "id": "612318fc",
   "metadata": {},
   "source": [
    "<b><font size=4>Содержание</font></b><a name=\"to_content1.\"></a>\n",
    "\n",
    "- **[1. Дискретные метрики](#h1)**\n",
    "  - [1.1 Тест Фишера](#h1.1)\n",
    "  - [1.2 Хи-квадрат(тест Пирсона)](#h1.2)\n",
    "- **[2. Непрерывные метрики](#h2)**\n",
    "  - [2.1 Тест Стьюдента (t-test)](#h2.1)\n",
    "  - [2.2 Тест Уэлча (Welch's test)](#h2.2)\n",
    "  - [2.3 U-тест Манна-Уитни (Mann-Whitney test)](#h2.3)\n",
    "- **[3. Ratio-метрики, метрики соотношения](#h3)**\n",
    "  - [3.1 Бустреп (bootstrap)](#h3.1)\n",
    "  - [3.2 Дельта-метод](#h3.2)\n",
    "  - [3.2 CUPED-метод](#h3.3)\n",
    "- **[4. Множественное тестирование](#h4)**\n",
    "  - [4.1 Поправка Бонферонни](#h4.1)\n",
    "  - [4.2 Метод Холма](#h4.2)"
   ]
  },
  {
   "cell_type": "markdown",
   "id": "a8f12579",
   "metadata": {},
   "source": [
    "# 1. Дискретные \n",
    "(качественные или метрики - пропорции, такие как конверсия, CR)<a class=\"anchor\" id=\"h1\"></a>\n"
   ]
  },
  {
   "cell_type": "markdown",
   "id": "8b3890d4",
   "metadata": {},
   "source": [
    "## 1.1.Тест Фишера<a class=\"anchor\" id=\"h1.1\"></a>\n",
    "[<font size=\"2\">(к содержанию)</font>](#to_content1.)\n",
    "\n",
    "Предпосылки:\n",
    "1. для выборок маленьких размеров"
   ]
  },
  {
   "cell_type": "code",
   "execution_count": 1,
   "id": "8726a998",
   "metadata": {},
   "outputs": [],
   "source": [
    "import numpy as np\n",
    "import scipy.stats as stats"
   ]
  },
  {
   "cell_type": "code",
   "execution_count": 2,
   "id": "0b48fa91",
   "metadata": {},
   "outputs": [
    {
     "name": "stdout",
     "output_type": "stream",
     "text": [
      "- Fisher's t-test:\n",
      "Значение odd ratio: 0.6977961187586745\n",
      "Значение p_value : 0.0018504812506557238\n",
      "Невозможно подтвердить гипотезу об отсутствии разницы между группами. На заданном уровне надежности может наблюдаться разница между группами\n"
     ]
    }
   ],
   "source": [
    "pvalue_fisher_test = 0.05 #уровень надежности\n",
    "\n",
    "#Данные по группам\n",
    "\n",
    "fisher_a_denum = 32655 #знаменатель в группе А\n",
    "fisher_a_num = 129 #числитель в группе А\n",
    "fisher_b_denum = 32855 #знаменатель в группе B\n",
    "fisher_b_num = 186 #числитель в группе B\n",
    "\n",
    "\n",
    "group_A = [fisher_a_num, fisher_a_denum]\n",
    "group_B = [fisher_b_num, fisher_b_denum]\n",
    "\n",
    "#Расчет коэфф-та\n",
    "table = [group_A, group_B]\n",
    "odd_ratio, p_value = stats.fisher_exact(table)\n",
    "\n",
    "print(\"- Fisher's t-test:\")\n",
    "# Результат\n",
    "print('Значение odd ratio: ' + str(odd_ratio))\n",
    "print('Значение p_value : ' + str(p_value))\n",
    "\n",
    "# Проверяем есть ли изменение\n",
    "if p_value < pvalue_fisher_test:\n",
    "    print(\"Невозможно подтвердить гипотезу об отсутствии разницы между группами. На заданном уровне надежности может наблюдаться разница между группами\")\n",
    "else:\n",
    "    print(\"Невозможно опровергнуть гипотезу об отсутствии разницы между группами\")"
   ]
  },
  {
   "cell_type": "markdown",
   "id": "33721227",
   "metadata": {},
   "source": [
    "## 1.2. Хи-квадрат (тест Пирсона)<a class=\"anchor\" id=\"h1.2\"></a>\n",
    "[<font size=\"2\">(к содержанию)</font>](#to_content1.)\n",
    "\n",
    "Предпосылки:\n",
    "1. тест для дискретных метрик\n"
   ]
  },
  {
   "cell_type": "code",
   "execution_count": 3,
   "id": "c9df1f88",
   "metadata": {},
   "outputs": [],
   "source": [
    "import numpy as np\n",
    "import scipy.stats as stats"
   ]
  },
  {
   "cell_type": "code",
   "execution_count": 4,
   "id": "5f86a49b",
   "metadata": {},
   "outputs": [
    {
     "name": "stdout",
     "output_type": "stream",
     "text": [
      "- Pearson's t-test:\n",
      "p-value:  0.0016334785152705034\n",
      "Доверительный интервал изменения:  (1.2079915600322153, 1.6581751414361816)\n",
      "Невозможно подтвердить гипотезу об отсутствии разницы между группами. Найденое различие на заданном уровне надежности может наблюдаться\n"
     ]
    }
   ],
   "source": [
    "p_value_chi = 0.05 #уровень надежности\n",
    "\n",
    "# данные по группам\n",
    "# в формате group_A = [кол-во успешных событий, общее кол-во событий]\n",
    "pearson_a = [129, 32655]\n",
    "pearson_b = [186, 32855]\n",
    "\n",
    "\n",
    "# Проверка на Sample Ratio Mismatch\n",
    "if abs(1-pearson_a[1]/pearson_b[1])>= 0.05:\n",
    "    print ('SRM alert! Выборки неравномерные')\n",
    "\n",
    "# Оценка статистики\n",
    "chi2, p, dof, ex = stats.chi2_contingency([pearson_a, pearson_b], correction=False)\n",
    "\n",
    "# Рассчитываем доверительный интервал для изменения\n",
    "lift = (pearson_b[0]/pearson_b[1])/(pearson_a[0]/pearson_a[1])\n",
    "std_error = np.sqrt(1/pearson_b[0] + 1/pearson_b[1] + 1/pearson_a[0] + 1/pearson_a[1])\n",
    "ci = stats.norm.interval(1-p_value_chi, loc=lift, scale=std_error)\n",
    "\n",
    "# Выводим результаты\n",
    "print(\"- Pearson's t-test:\")\n",
    "print(\"p-value: \", p)\n",
    "print(\"Доверительный интервал изменения: \", ci)\n",
    "\n",
    "# Проверяем есть ли изменение\n",
    "if p < p_value_chi and ci[0] > 1:\n",
    "    print(\"Невозможно подтвердить гипотезу об отсутствии разницы между группами. Найденое различие на заданном уровне надежности может наблюдаться\")\n",
    "else:\n",
    "    print(\"Невозможно опровергнуть гипотезу об отсутствии разницы между группами\")"
   ]
  },
  {
   "cell_type": "code",
   "execution_count": 5,
   "id": "614e4886",
   "metadata": {},
   "outputs": [
    {
     "name": "stdout",
     "output_type": "stream",
     "text": [
      "- Pearson's t-test:\n",
      "p-value:  0.0016334785152705034\n",
      "Невозможно подтвердить гипотезу об отсутствии разницы между группами. Найденое различие на заданном уровне надежности может наблюдаться\n"
     ]
    }
   ],
   "source": [
    "# Вариант \"из коробки\"\n",
    "import scipy\n",
    "from scipy import stats\n",
    "\n",
    "p_value_chi = 0.05 #уровень надежности\n",
    "\n",
    "pearson_a = [129, 32655]\n",
    "pearson_b = [186, 32855]\n",
    "\n",
    "p = scipy.stats.chi2_contingency([pearson_a, pearson_b],correction=False)[1]\n",
    "ci = stats.norm.interval(1-p_value_chi, loc=lift, scale=std_error)\n",
    "print(\"- Pearson's t-test:\")\n",
    "print(\"p-value: \", p)\n",
    "\n",
    "# Проверяем есть ли изменение\n",
    "if p < p_value_chi and ci[0] > 1:\n",
    "    print(\"Невозможно подтвердить гипотезу об отсутствии разницы между группами. Найденое различие на заданном уровне надежности может наблюдаться\")\n",
    "else:\n",
    "    print(\"Невозможно опровергнуть гипотезу об отсутствии разницы между группами\")"
   ]
  },
  {
   "cell_type": "markdown",
   "id": "d852f507",
   "metadata": {},
   "source": [
    "# 2. Непрерывные\n",
    "(количественные -  средняя выручка на пользователя, средняя длина сессии)<a class=\"anchor\" id=\"h2\"></a>\n",
    "\n",
    "[<font size=\"2\">(к содержанию)</font>](#to_content1.)"
   ]
  },
  {
   "cell_type": "markdown",
   "id": "76f83437",
   "metadata": {},
   "source": [
    "## 2.1. T-test Стьюдента<a class=\"anchor\" id=\"h2.1\"></a>\n",
    "[<font size=\"2\">(к содержанию)</font>](#to_content1.)\n",
    "\n",
    "Предпосылки:\n",
    "1. Независимость выборок\n",
    "2. Равная дисперсия выборок (приблизительно)\n"
   ]
  },
  {
   "cell_type": "code",
   "execution_count": 6,
   "id": "c5cdc82c",
   "metadata": {},
   "outputs": [],
   "source": [
    "import numpy as np\n",
    "from scipy.stats import chi2_contingency, mannwhitneyu, norm, t, ttest_ind\n",
    "import pandas as pd"
   ]
  },
  {
   "cell_type": "code",
   "execution_count": 7,
   "id": "dea237ec",
   "metadata": {},
   "outputs": [
    {
     "name": "stdout",
     "output_type": "stream",
     "text": [
      "- Student's t-test:\n",
      "   - Значение t статистики: -1.789\n",
      "   - Значение p-value: 8.4055453%\n",
      "Невозможно опровергнуть гипотезу об отсутствии разницы между группами\n"
     ]
    }
   ],
   "source": [
    "#Тут прописано ручками, как считается тест(чтобы было понятно)\n",
    "\n",
    "p_value_t = 0.05 #уровень надежности\n",
    "\n",
    "np.random.seed(42)\n",
    "n_a, n_b = 17, 14 #длина выборок\n",
    "\n",
    "d1 = norm(loc=200, scale=100)\n",
    "d2 = norm(loc=280, scale=90)\n",
    "disc = 50\n",
    "student_a = (d1.rvs(size=n_a) / disc).astype(int) * disc\n",
    "student_b = (d2.rvs(size=n_b) / disc).astype(int) * disc\n",
    "\n",
    "# импорт своих значений\n",
    "# student_a = pd.read_csv()\n",
    "# student_b = pd.read_csv()\n",
    "# n_a  = len(student_a)\n",
    "# n_b  = len(student_b)\n",
    "\n",
    "\n",
    "# дисперсия\n",
    "s_student_a = np.sqrt(np.var(student_a, ddof=1))\n",
    "s_student_b= np.sqrt(np.var(student_b, ddof=1))\n",
    "\n",
    "# Pooled variance\n",
    "s_p = np.sqrt(((n_a-1) * s_student_a**2 +\n",
    "               (n_b-1) * s_student_b**2)\n",
    "              / (n_a + n_b - 2))\n",
    "\n",
    "# Test statistic distribution under null hypothesis H0\n",
    "dofs = n_a + n_b - 2\n",
    "stat_distrib = t(df=dofs, loc=0, scale=1)\n",
    "\n",
    "# t value\n",
    "t_val = (student_a.mean() - student_b.mean()) / (s_p * np.sqrt(1/n_a + 1/n_b))\n",
    "\n",
    "# p-value\n",
    "p_t_test = stat_distrib.cdf(t_val) * 2\n",
    "\n",
    "print(\"- Student's t-test:\")\n",
    "print(f\"   - Значение t статистики: {t_val:.3f}\")\n",
    "print(f\"   - Значение p-value: {p_t_test*100:.7f}%\")\n",
    "\n",
    "# Проверяем есть ли изменение\n",
    "if p_t_test < p_value_t:\n",
    "    print(\"Невозможно подтвердить гипотезу об отсутствии разницы между группами. Найденое различие на заданном уровне надежности может наблюдаться\")\n",
    "else:\n",
    "    print(\"Невозможно опровергнуть гипотезу об отсутствии разницы между группами\")"
   ]
  },
  {
   "cell_type": "code",
   "execution_count": 8,
   "id": "7b908968",
   "metadata": {},
   "outputs": [],
   "source": [
    "# Вариант \"из коробки\"\n",
    "import scipy\n",
    "from scipy.stats import chi2_contingency, mannwhitneyu, norm, t, ttest_ind\n",
    "import numpy as np\n",
    "import pandas as pd"
   ]
  },
  {
   "cell_type": "code",
   "execution_count": 9,
   "id": "ab26be23",
   "metadata": {},
   "outputs": [
    {
     "name": "stdout",
     "output_type": "stream",
     "text": [
      "- Student's t-test:\n",
      "   - Значение t статистики: -1.789\n",
      "   - Значение p-value: 8.4055453%\n",
      "Невозможно опровергнуть гипотезу об отсутствии разницы между группами\n"
     ]
    }
   ],
   "source": [
    "p_t_test = 0.05 #уровень надежности\n",
    "\n",
    "np.random.seed(42)\n",
    "n_a, n_b = 17, 14 #длина выборок\n",
    "\n",
    "d1 = norm(loc=200, scale=100)\n",
    "d2 = norm(loc=280, scale=90)\n",
    "disc = 50\n",
    "student_a = (d1.rvs(size=n_a) / disc).astype(int) * disc\n",
    "student_b = (d2.rvs(size=n_b) / disc).astype(int) * disc\n",
    "\n",
    "# импорт своих значений\n",
    "# student_a = pd.read_csv()\n",
    "# student_b = pd.read_csv()\n",
    "# n_a  = len(student_a)\n",
    "# n_b  = len(student_b)\n",
    "\n",
    "\n",
    "t_val, p_val = stats.ttest_ind(student_a, student_b)\n",
    "\n",
    "print(\"- Student's t-test:\")\n",
    "print(f\"   - Значение t статистики: {t_val:.3f}\")\n",
    "print(f\"   - Значение p-value: {p_val*100:.7f}%\")\n",
    "\n",
    "\n",
    "# Проверяем есть ли изменение\n",
    "if p_val < p_t_test:\n",
    "    print(\"Невозможно подтвердить гипотезу об отсутствии разницы между группами. Найденое различие на заданном уровне надежности может наблюдаться\")\n",
    "else:\n",
    "    print(\"Невозможно опровергнуть гипотезу об отсутствии разницы между группами\")"
   ]
  },
  {
   "cell_type": "markdown",
   "id": "7c7aa6ed",
   "metadata": {},
   "source": [
    "## 2.2. Welch t-test (t-test Уэлча)<a class=\"anchor\" id=\"h2.2\"></a>\n",
    "[<font size=\"2\">(к содержанию)</font>](#to_content1.)\n",
    "\n",
    "Предпосылки:\n",
    "1. Независимость выборок\n"
   ]
  },
  {
   "cell_type": "code",
   "execution_count": 10,
   "id": "2a2e9f8e",
   "metadata": {},
   "outputs": [],
   "source": [
    "# Вариант \"из коробки\"\n",
    "#Тот же t-тест, с поправкой на неравную дисперсию\n",
    "import scipy\n",
    "from scipy import stats\n",
    "import pandas as pd"
   ]
  },
  {
   "cell_type": "code",
   "execution_count": 11,
   "id": "fd075a25",
   "metadata": {},
   "outputs": [
    {
     "name": "stdout",
     "output_type": "stream",
     "text": [
      "- Welch's t-test:\n",
      "   - Значение t статистики: -1.848\n",
      "   - Значение p-value: 7.5003236%\n",
      "Невозможно опровергнуть гипотезу об отсутствии разницы между группами\n"
     ]
    }
   ],
   "source": [
    "p_welch_test = 0.05 #уровень надежности\n",
    "np.random.seed(42)\n",
    "n_a, n_b = 17, 14 #длина выборок\n",
    "\n",
    "d1 = norm(loc=200, scale=100)\n",
    "d2 = norm(loc=280, scale=90)\n",
    "disc = 50\n",
    "welch_a = (d1.rvs(size=n_a) / disc).astype(int) * disc\n",
    "welch_b = (d2.rvs(size=n_b) / disc).astype(int) * disc\n",
    "\n",
    "# импорт своих значений\n",
    "# welch_a = pd.read_csv()\n",
    "# welch_b = pd.read_csv()\n",
    "# n_a  = len(student_a)\n",
    "# n_b  = len(student_b)\n",
    "\n",
    "t_val, p_val = stats.ttest_ind(welch_a, welch_b, equal_var=False)\n",
    "\n",
    "print(\"- Welch's t-test:\")\n",
    "print(f\"   - Значение t статистики: {t_val:.3f}\")\n",
    "print(f\"   - Значение p-value: {p_val*100:.7f}%\")\n",
    "\n",
    "\n",
    "# Проверяем есть ли изменение\n",
    "if p_val < p_welch_test:\n",
    "    print(\"Невозможно подтвердить гипотезу об отсутствии разницы между группами. Найденое различие на заданном уровне надежности может наблюдаться\")\n",
    "else:\n",
    "    print(\"Невозможно опровергнуть гипотезу об отсутствии разницы между группами\")\n"
   ]
  },
  {
   "cell_type": "markdown",
   "id": "b8bff41d",
   "metadata": {},
   "source": [
    "## 2.3. U-test Манна-Уитни<a class=\"anchor\" id=\"h2.3\"></a>\n",
    "[<font size=\"2\">(к содержанию)</font>](#to_content1.)\n",
    "\n",
    "Предпосылки:\n",
    "1. Маленькая выборка\n",
    "2. Распределение скошено: в результате теста произошло масштабирование или сдвиг выборки"
   ]
  },
  {
   "cell_type": "code",
   "execution_count": 12,
   "id": "31e34ada",
   "metadata": {},
   "outputs": [],
   "source": [
    "# Вариант \"из коробки\"\n",
    "import scipy\n",
    "from scipy import stats"
   ]
  },
  {
   "cell_type": "code",
   "execution_count": 13,
   "id": "98d11931",
   "metadata": {},
   "outputs": [
    {
     "name": "stdout",
     "output_type": "stream",
     "text": [
      "- Mann-Whitney U-test:\n",
      "   - Значение U статистики: 76.000\n",
      "   - Значение p-value: 8.3613250%\n",
      "Невозможно опровергнуть гипотезу об отсутствии разницы между группами\n"
     ]
    }
   ],
   "source": [
    "p_mu_test = 0.05 #уровень надежности\n",
    "np.random.seed(42)\n",
    "n_a, n_b = 17, 14 #длина выборок\n",
    "\n",
    "d1 = norm(loc=200, scale=100)\n",
    "d2 = norm(loc=280, scale=90)\n",
    "disc = 50\n",
    "mu_a = (d1.rvs(size=n_a) / disc).astype(int) * disc\n",
    "mu_b = (d2.rvs(size=n_b) / disc).astype(int) * disc\n",
    "\n",
    "# импорт своих значений\n",
    "# welch_a = pd.read_csv()\n",
    "# welch_b = pd.read_csv()\n",
    "# n_a  = len(student_a)\n",
    "# n_b  = len(student_b)\n",
    "\n",
    "u_val, p_val = stats.mannwhitneyu(mu_a, mu_b, alternative='two-sided')\n",
    "\n",
    "print(\"- Mann-Whitney U-test:\")\n",
    "print(f\"   - Значение U статистики: {u_val:.3f}\")\n",
    "print(f\"   - Значение p-value: {p_val*100:.7f}%\")\n",
    "\n",
    "\n",
    "# Проверяем есть ли изменение\n",
    "if p_val < p_mu_test:\n",
    "    print(\"Невозможно подтвердить гипотезу об отсутствии разницы между группами. Найденое различие на заданном уровне надежности может наблюдаться\")\n",
    "else:\n",
    "    print(\"Невозможно опровергнуть гипотезу об отсутствии разницы между группами\")\n"
   ]
  },
  {
   "cell_type": "markdown",
   "id": "3a2fc95c",
   "metadata": {},
   "source": [
    "# 3. Ratio метрики, метрики соотношения\n",
    "(количественные - средний чек, CTR)<a class=\"anchor\" id=\"h3\"></a>\n",
    "\n",
    "[<font size=\"2\">(к содержанию)</font>](#to_content1.)\n"
   ]
  },
  {
   "cell_type": "markdown",
   "id": "bcddd3d4",
   "metadata": {},
   "source": [
    "## 3.1. Бутстреп (bootstrap)<a class=\"anchor\" id=\"h3.1\"></a>\n",
    "[<font size=\"2\">(к содержанию)</font>](#to_content1.)\n",
    "\n",
    "Предпосылки:\n",
    "1. Обращаем внимание, на разницу каких метрики мы тестируем (среднее,квантиль и т.д)\n",
    "2. Основная особенность для метрик отношения — данные необходимо семплировать по объектам, а не по наблюдениям. Если объект оказался в определённой группе, то и все его действия будут в этой группе. Для этого нужна [предвариательная обработка](#h4.1): расчет полной стоимости покупок по юзеру (например)."
   ]
  },
  {
   "cell_type": "code",
   "execution_count": 14,
   "id": "5d707055",
   "metadata": {},
   "outputs": [],
   "source": [
    "import scipy\n",
    "from scipy import stats\n",
    "import numpy as np\n",
    "import pandas as pd"
   ]
  },
  {
   "cell_type": "code",
   "execution_count": 15,
   "id": "4b2232c9",
   "metadata": {},
   "outputs": [
    {
     "name": "stdout",
     "output_type": "stream",
     "text": [
      "- Bootstrap test:\n",
      "Bootstrap mean difference 95% CI: (-1.51, 1.56)\n",
      "t-statistic:  1.3774519814981743\n",
      "p-value: 0.1684034\n",
      "Невозможно опровергнуть гипотезу об отсутствии разницы между группами. На заданном уровне надежности не найдено статистически занчимое различие между группами.\n"
     ]
    }
   ],
   "source": [
    "n = 1000 #размер выборки\n",
    "B = 10000 #кол-во итераций\n",
    "p_val_boostrap = 0.05 #уровень надежности\n",
    "\n",
    "#генерация выборок\n",
    "boostrap_a = np.random.normal(90, 20, n)\n",
    "boostrap_b = np.random.normal(90, 15, n)\n",
    "\n",
    "# импорт своих значений\n",
    "# boostrap_a = pd.read_csv()\n",
    "# boostrap_b = pd.read_csv()\n",
    "\n",
    "# длина выборок\n",
    "len_a = len(boostrap_a)\n",
    "len_b = len(boostrap_b)\n",
    "\n",
    "# считаем разницу метрик отношения (если смотрим не на среднее\n",
    "# , а на квантиль, медиану и тд, заменить в формуле)\n",
    "bootstrap_mean_a = []\n",
    "bootstrap_mean_b = []\n",
    "bootstrap_stats = []\n",
    "\n",
    "# генерим подвыборки\n",
    "for _ in range(B):\n",
    "    bootstrap_values_a = np.random.choice(boostrap_a, len_a, True)\n",
    "    bootstrap_mean_a.append(np.mean(bootstrap_values_a))\n",
    "    bootstrap_values_b = np.random.choice(boostrap_b, len_b, True)\n",
    "    bootstrap_mean_b.append(np.mean(bootstrap_values_b))\n",
    "    \n",
    "# записываем значения разницы метрик\n",
    "for i, j in zip(bootstrap_mean_a, bootstrap_mean_b):\n",
    "    bootstrap_stats_value = i-j\n",
    "    bootstrap_stats.append(bootstrap_stats_value)\n",
    "\n",
    "# строим доверительный интервал для статистики\n",
    "# проверить распределение статистики и построить доверит интервал для нее!!!\n",
    "# ТОЧНО ЛИ ОН ТАК СТРОИТСЯ????\n",
    "ci = np.percentile(bootstrap_stats, [p_val_boostrap*100/2, 100-p_val_boostrap*100/2])\n",
    "# проводим т-тест, проверяем,попадаем ли ноль в этот доверительны интервал\n",
    "t_val, p_val_boostrap_test = stats.ttest_1samp(bootstrap_stats, 0)\n",
    "\n",
    "print(\"- Bootstrap test:\")\n",
    "print(\"Bootstrap mean difference 95% CI: ({:.2f}, {:.2f})\".format(ci[0], ci[1]))\n",
    "print(\"t-statistic: \", t_val)\n",
    "print(f\"p-value: {p_val_boostrap_test:0.7f}\")\n",
    "\n",
    "# Проверяем есть ли изменение\n",
    "if p_val_boostrap_test < p_val_boostrap:\n",
    "    print(\"Невозможно подтвердить гипотезу об отсутствии разницы между группами. Найденое различие на заданном уровне надежности может наблюдаться\")\n",
    "else:\n",
    "    print(\"Невозможно опровергнуть гипотезу об отсутствии разницы между группами. На заданном уровне надежности не найдено статистически занчимое различие между группами.\")\n"
   ]
  },
  {
   "cell_type": "markdown",
   "id": "d9782132",
   "metadata": {},
   "source": [
    "#### Предварительная обработка<a class=\"anchor\" id=\"h4.1\"></a>\n",
    "!раздел в разработке!"
   ]
  },
  {
   "cell_type": "code",
   "execution_count": 16,
   "id": "1f927312",
   "metadata": {},
   "outputs": [],
   "source": [
    "# def generate_data(sample_size, effect):\n",
    "#     \"\"\"Генерирует данные со стоимостью покупок.\n",
    "\n",
    "#     Возвращает два списка с данными контрольной и экспериментальной групп.\n",
    "#     Элементы списков - множества со стоимостями покупок пользователей. \n",
    "#     \"\"\"\n",
    "#     result = []\n",
    "#     for group_effect in [0, effect]:\n",
    "#         n_purchases = np.random.randint(1, 5, sample_size)\n",
    "#         mean_costs = np.random.uniform(1000, 2000, sample_size)\n",
    "#         data = [\n",
    "#             np.random.normal(mean + group_effect, 200, n)\n",
    "#             for n, mean in zip(n_purchases, mean_costs)\n",
    "#         ]\n",
    "#         result.append(data)\n",
    "#     return result\n"
   ]
  },
  {
   "cell_type": "code",
   "execution_count": 17,
   "id": "1d427338",
   "metadata": {},
   "outputs": [],
   "source": [
    "# def get_percentile_ci(bootstrap_stats, alpha):\n",
    "#     \"\"\"Строит перцентильный доверительный интервал.\"\"\"\n",
    "#     left, right = np.quantile(bootstrap_stats, [alpha / 2, 1 - alpha / 2])\n",
    "#     return left, right\n",
    "\n",
    "# def check_bootsrtap(a, b, n_iter, alpha):\n",
    "#     \"\"\"Оценивает значимость отличий с помощью бутстрепа.\n",
    "\n",
    "#     Если отличия значимые, то возвращает 1, иначе 0.\n",
    "#     \"\"\"\n",
    "#     # вычисляем стоимость и количество покупок клиентов\n",
    "#     xy_a = np.array([[sum(values), len(values)] for values in a])\n",
    "#     xy_b = np.array([[sum(values), len(values)] for values in b])\n",
    "#     # генерируем случайные индексы для выбора подмножеств данных\n",
    "#     len_a = len(a)\n",
    "#     len_b = len(b)\n",
    "#     indexes_a = np.random.choice(\n",
    "#         np.arange(len_a), size=(n_iter, len_a), replace=True\n",
    "#     )\n",
    "#     indexes_b = np.random.choice(\n",
    "#         np.arange(len_b), size=(n_iter, len_b), replace=True\n",
    "#     )\n",
    "\n",
    "#     bootstrap_stats = []\n",
    "#     for idx_a, idx_b in zip(indexes_a, indexes_b):\n",
    "#         bootstrap_xy_a = xy_a[idx_a]\n",
    "#         bootstrap_xy_b = xy_b[idx_b]\n",
    "#         # считаем разницу метрик отношения\n",
    "#         bootstrap_stat = (\n",
    "#             bootstrap_xy_b[:, 0].sum() / bootstrap_xy_b[:, 1].sum()\n",
    "#             - bootstrap_xy_a[:, 0].sum() / bootstrap_xy_a[:, 1].sum()\n",
    "#         )\n",
    "#         bootstrap_stats.append(bootstrap_stat)\n",
    "#     # строим доверительный интервал и оцениваем значимость отличий\n",
    "#     ci = get_percentile_ci(bootstrap_stats, alpha)\n",
    "#     has_effect = 1 - (ci[0] < 0 < ci[1])\n",
    "#     return has_effect\n",
    "\n",
    "# alpha = 0.05               # допустимая вероятность ошибки I рода\n",
    "# sample_size = 1000         # размер групп\n",
    "# n_iter = 1000              # количество итераций бутстрепа\n",
    "\n",
    "# effects = []\n",
    "# for _ in range(1000):\n",
    "#     a, b = generate_data(sample_size, 0)\n",
    "#     has_effect = check_bootsrtap(a, b, n_iter, alpha)\n",
    "#     effects.append(has_effect)\n",
    "\n",
    "# error_rate = np.mean(np.array(effects) == 1)\n",
    "# print(f'Доля ошибок первого рода: {error_rate:0.3f}')"
   ]
  },
  {
   "cell_type": "markdown",
   "id": "c29271b8",
   "metadata": {},
   "source": [
    "## 3.2. Дельта-метод<a class=\"anchor\" id=\"h3.2\"></a>\n",
    "[<font size=\"2\">(к содержанию)</font>](#to_content1.)\n",
    "Предпосылки:\n",
    "1. Зависимые данные\n"
   ]
  },
  {
   "cell_type": "code",
   "execution_count": 18,
   "id": "de0ab8dd",
   "metadata": {},
   "outputs": [],
   "source": [
    "import numpy as np\n",
    "import pandas as pd\n",
    "import scipy\n",
    "from scipy import stats"
   ]
  },
  {
   "cell_type": "code",
   "execution_count": 19,
   "id": "3779b821",
   "metadata": {},
   "outputs": [],
   "source": [
    "n = 1000 #размер выборки\n",
    "p_val_delta = 0.05 #уровень надежности\n",
    "\n",
    "#генерация выборок\n",
    "num_a = np.random.normal(90, 20, n) #числитель метрики отношения группы А\n",
    "denom_a = np.random.normal(90, 20, n) #знаменатель метрики отношения группы А\n",
    "\n",
    "num_b = np.random.normal(90, 15, n) #числитель метрики отношения группы B\n",
    "denom_b = np.random.normal(90, 15, n) #знаменатель метрики отношения группы B\n",
    "\n",
    "# импорт своих значений\n",
    "# numer_a = pd.read_csv()\n",
    "# denom_a = pd.read_csv()\n",
    "# numer_a = pd.read_csv()\n",
    "# denom_a = pd.read_csv()"
   ]
  },
  {
   "cell_type": "code",
   "execution_count": 20,
   "id": "3ba31b03",
   "metadata": {},
   "outputs": [],
   "source": [
    "#расчет метрик для группы А\n",
    "n_user_a = len(denom_b)\n",
    "\n",
    "# оценка ctr группы а\n",
    "ctr_a = sum(num_a)/sum(denom_a)\n",
    "\n",
    "# оценка дисперсии\n",
    "mean_x, mean_y = np.mean(num_a), np.mean(denom_a)\n",
    "var_x, var_y = np.var(num_a, ddof = 1), np.var(denom_a, ddof = 1)\n",
    "cov_xy = np.cov(num_a, denom_a, ddof = 1)[0, 1]\n",
    "\n",
    "# оценка дисперсии метрики\n",
    "var_metric_a = (\n",
    "            var_x / mean_y ** 2\n",
    "            - 2 * (mean_x / mean_y ** 3) * cov_xy\n",
    "            + (mean_x ** 2 / mean_y ** 4) * var_y\n",
    "        ) / n_user_a"
   ]
  },
  {
   "cell_type": "code",
   "execution_count": 21,
   "id": "4fafeef8",
   "metadata": {},
   "outputs": [],
   "source": [
    "#расчет метрик для группы B\n",
    "n_user_b = len(denom_b)\n",
    "\n",
    "# оценка ctr группы b\n",
    "ctr_b = sum(num_b)/sum(denom_b)\n",
    "\n",
    "# оценка дисперсии\n",
    "mean_n, mean_m = np.mean(num_b), np.mean(denom_b)\n",
    "var_n, var_m = np.var(num_b, ddof = 1), np.var(denom_b, ddof = 1)\n",
    "cov_nm = np.cov(num_b, denom_b, ddof = 1)[0, 1]\n",
    "\n",
    "# оценка дисперсии метрики\n",
    "var_metric_b = (\n",
    "            var_n / mean_m ** 2\n",
    "            - 2 * (mean_n / mean_m ** 3) * cov_nm\n",
    "            + (mean_n ** 2 / mean_m ** 4) * var_m\n",
    "        ) / n_user_b"
   ]
  },
  {
   "cell_type": "code",
   "execution_count": 22,
   "id": "9a64eb1b",
   "metadata": {},
   "outputs": [
    {
     "name": "stdout",
     "output_type": "stream",
     "text": [
      "- Delta t-test:\n",
      "Значение T статистики:  -1.0902035199525153\n",
      "p-value: 0.2756235\n",
      "Невозможно опровергнуть гипотезу об отсутствии разницы между группами. На заданном уровне надежности не найдено статистически значимое различие между группами.\n"
     ]
    }
   ],
   "source": [
    "#t-test\n",
    "def ttest(mean_control,mean_treatment,var_control,var_treatment):\n",
    "    diff = mean_treatment - mean_control\n",
    "    var = var_control+var_treatment\n",
    "    stde = 1.96*np.sqrt(var)\n",
    "    lower = diff - stde \n",
    "    upper = diff + stde\n",
    "    t_val = diff/np.sqrt(var)\n",
    "    p_val_delta_test = stats.norm.sf(abs(t_val))*2\n",
    "\n",
    "#     result = {'mean_control':ctr_a,\n",
    "#              'mean_experiment':ctr_b,\n",
    "#              'var_control':var_metric_a,\n",
    "#              'var_experiment':var_metric_b,\n",
    "#              'difference':diff,\n",
    "#              'lower_bound':lower,\n",
    "#              'upper_bound':upper,\n",
    "#               't_val': t_val,\n",
    "#              'p-value': p_val_delta_test}\n",
    "    result = [ctr_a,ctr_b,var_metric_a,var_metric_b,diff,lower,upper, t_val, p_val_delta_test]\n",
    "    return result\n",
    "\n",
    "t_val = ttest(ctr_a,ctr_b, var_metric_a,var_metric_b)[7]\n",
    "p_val_delta_test = ttest(ctr_a,ctr_b, var_metric_a,var_metric_b)[8]\n",
    "\n",
    "print(\"- Delta t-test:\")\n",
    "print(\"Значение T статистики: \", t_val)\n",
    "print(f\"p-value: {p_val_delta_test:0.7f}\")\n",
    "\n",
    "# Проверяем есть ли изменение\n",
    "if p_val_delta_test < p_val_delta:\n",
    "    print(\"Невозможно подтвердить гипотезу об отсутствии разницы между группами. Найденое различие на заданном уровне надежности может наблюдаться\")\n",
    "else:\n",
    "    print(\"Невозможно опровергнуть гипотезу об отсутствии разницы между группами. На заданном уровне надежности не найдено статистически значимое различие между группами.\")"
   ]
  },
  {
   "cell_type": "markdown",
   "id": "f5471284",
   "metadata": {},
   "source": [
    "## 3.3. CUPED- метод<a class=\"anchor\" id=\"h3.3\"></a>\n",
    "[<font size=\"2\">(к содержанию)</font>](#to_content1.)\n",
    "\n",
    "Предпосылки:\n",
    "1. Большая дисперсия в данных (подходит и для количественных метрик)\n",
    "2. Нужны данные до теста"
   ]
  },
  {
   "cell_type": "code",
   "execution_count": 23,
   "id": "704407ba",
   "metadata": {},
   "outputs": [],
   "source": [
    "import numpy as np\n",
    "import pandas as pd\n",
    "from collections import namedtuple\n",
    "import scipy.stats as sps\n",
    "ExperimentComparisonResults = namedtuple('ExperimentComparisonResults', \n",
    "                                        ['pvalue', 'effect', 'ci_length', 'left_bound', 'right_bound'])"
   ]
  },
  {
   "cell_type": "code",
   "execution_count": 24,
   "id": "14c225b3",
   "metadata": {},
   "outputs": [],
   "source": [
    "n = 1000 #размер выборки\n",
    "p_val_cuped = 0.05 #уровень надежности\n",
    "\n",
    "control = np.random.normal(90, 20, n)\n",
    "test = np.random.normal(90, 15, n)\n",
    "control_before = np.random.normal(90, 20, n)\n",
    "test_before = np.random.normal(90, 17, n)\n",
    "\n",
    "## импорт своих значений\n",
    "# control = pd.read_csv()\n",
    "# test = pd.read_csv()\n",
    "# control_before = pd.read_csv()\n",
    "# test_before = pd.read_csv()"
   ]
  },
  {
   "cell_type": "code",
   "execution_count": 25,
   "id": "ba2a230d",
   "metadata": {},
   "outputs": [],
   "source": [
    "# T-test\n",
    "def absolute_ttest(control, test):\n",
    "    mean_control = np.mean(control)\n",
    "    mean_test = np.mean(test)\n",
    "    var_mean_control  = np.var(control) / len(control)\n",
    "    var_mean_test  = np.var(test) / len(test)\n",
    "    \n",
    "    difference_mean = mean_test - mean_control\n",
    "    difference_mean_var = var_mean_control + var_mean_test\n",
    "    difference_distribution = sps.norm(loc=difference_mean, scale=np.sqrt(difference_mean_var))\n",
    "\n",
    "    left_bound, right_bound = difference_distribution.ppf([p_val_cuped/2, 1-p_val_cuped/2])\n",
    "    ci_length = (right_bound - left_bound)\n",
    "    pvalue = 2 * min(difference_distribution.cdf(0), difference_distribution.sf(0))\n",
    "    effect = difference_mean\n",
    "    return ExperimentComparisonResults(pvalue, effect, ci_length, left_bound, right_bound)"
   ]
  },
  {
   "cell_type": "code",
   "execution_count": 26,
   "id": "5dada667",
   "metadata": {},
   "outputs": [],
   "source": [
    "# Вводим фунцию для расчет критерия тета\n",
    "def cuped_ttest(control, test, control_before, test_before):\n",
    "    theta = (np.cov(control, control_before)[0, 1] + np.cov(test, test_before)[0, 1]) /\\\n",
    "                (np.var(control_before) + np.var(test_before))\n",
    "    control_cup = control - theta * control_before\n",
    "    test_cup = test - theta * test_before\n",
    "    return absolute_ttest(control_cup, test_cup)"
   ]
  },
  {
   "cell_type": "code",
   "execution_count": 27,
   "id": "822ff084",
   "metadata": {},
   "outputs": [],
   "source": [
    "# Запускаю критерий\n",
    "cuped_ci = cuped_ttest(control, test, control_before, test_before)\n",
    "ttest_ci = absolute_ttest(control, test)\n",
    "p_val_cuped_test = cuped_ci[0]"
   ]
  },
  {
   "cell_type": "code",
   "execution_count": 28,
   "id": "2b7275bf",
   "metadata": {},
   "outputs": [
    {
     "name": "stdout",
     "output_type": "stream",
     "text": [
      "- CUPED t-test:\n",
      "p-value: 0.6573714\n",
      "Невозможно опровергнуть гипотезу об отсутствии разницы между группами. На заданном уровне надежности не найдено статистически значимое различие между группами.\n"
     ]
    }
   ],
   "source": [
    "print(\"- CUPED t-test:\")\n",
    "# print(\"Значение T статистики: \", t_val)\n",
    "print(f\"p-value: {p_val_cuped_test:0.7f}\")\n",
    "\n",
    "# Проверяем есть ли изменение\n",
    "if p_val_cuped_test < p_val_cuped:\n",
    "    print(\"Невозможно подтвердить гипотезу об отсутствии разницы между группами. Найденое различие на заданном уровне надежности может наблюдаться\")\n",
    "else:\n",
    "    print(\"Невозможно опровергнуть гипотезу об отсутствии разницы между группами. На заданном уровне надежности не найдено статистически значимое различие между группами.\")"
   ]
  },
  {
   "cell_type": "markdown",
   "id": "417ed5d8",
   "metadata": {},
   "source": [
    "# 4. Множественное тестирование<a class=\"anchor\" id=\"h4\"></a>"
   ]
  },
  {
   "cell_type": "markdown",
   "id": "a27a2ec9",
   "metadata": {},
   "source": [
    "## 4.1. Поправка Бонферонни <a class=\"anchor\" id=\"h4.1\"></a>\n",
    "[<font size=\"2\">(к содержанию)</font>](#to_content1.)\n",
    "\n",
    "Предпосылки:\n",
    "1. сравнение не больше 3 вариантов между собой\n",
    "\n",
    "Обычный t-test  с уровнем надежности alpha/n, где n - кол-во вариантов"
   ]
  },
  {
   "cell_type": "code",
   "execution_count": 29,
   "id": "03203dcc",
   "metadata": {},
   "outputs": [],
   "source": [
    "import scipy\n",
    "from scipy import stats\n",
    "import pandas as pd\n",
    "import numpy as np"
   ]
  },
  {
   "cell_type": "code",
   "execution_count": 30,
   "id": "0d409a5f",
   "metadata": {},
   "outputs": [],
   "source": [
    "k = 3 #кол-во вариантов\n",
    "n = 1000 #размер выборки\n",
    "p_val_n = 0.05/k #уровень надежности\n",
    "\n",
    "bonf_a = np.random.normal(90, 20, n)\n",
    "bonf_b = np.random.normal(90, 15, n)\n",
    "bonf_c = np.random.normal(89, 20, n)\n",
    "\n",
    "## импорт своих значений\n",
    "# bonf_a = pd.read_csv()\n",
    "# bonf_b = pd.read_csv()\n",
    "# bonf_c = pd.read_csv()"
   ]
  },
  {
   "cell_type": "code",
   "execution_count": 31,
   "id": "3e286296",
   "metadata": {},
   "outputs": [],
   "source": [
    "n_a = len(bonf_a)\n",
    "n_b = len(bonf_b)\n",
    "n_c = len(bonf_c)\n",
    "\n",
    "s_a = np.sqrt(np.var(bonf_a, ddof=1))\n",
    "s_b = np.sqrt(np.var(bonf_b, ddof=1))\n",
    "s_c = np.sqrt(np.var(bonf_c, ddof=1))\n",
    "\n",
    "s_p_ab = np.sqrt(((n_a-1) * s_a**2 +\n",
    "               (n_b-1) * s_b**2)\n",
    "              / (n_a + n_b - 2))\n",
    "\n",
    "s_p_ac = np.sqrt(((n_a-1) * s_a**2 +\n",
    "               (n_c-1) * s_c**2)\n",
    "              / (n_a + n_c - 2))\n",
    "\n",
    "s_p_bc = np.sqrt(((n_b-1) * s_b**2 +\n",
    "               (n_c-1) * s_c**2)\n",
    "              / (n_b + n_c - 2))"
   ]
  },
  {
   "cell_type": "code",
   "execution_count": 32,
   "id": "b469a9d6",
   "metadata": {},
   "outputs": [],
   "source": [
    "# t value\n",
    "t_val_ab = (bonf_a.mean() - bonf_b.mean()) / (s_p_ab * np.sqrt(1/n_a + 1/n_b))\n",
    "t_val_ac = (bonf_a.mean() - bonf_c.mean()) / (s_p_ac * np.sqrt(1/n_a + 1/n_c))\n",
    "t_val_bc = (bonf_b.mean() - bonf_c.mean()) / (s_p_bc * np.sqrt(1/n_b + 1/n_c))\n",
    "\n",
    "# pvalue\n",
    "p_val_ab_  = scipy.stats.t.sf(abs(t_val_ab), df=2*n-2)*2\n",
    "p_val_ac_  = scipy.stats.t.sf(abs(t_val_ac), df=2*n-2)*2\n",
    "p_val_bc_  = scipy.stats.t.sf(abs(t_val_bc), df=2*n-2)*2\n"
   ]
  },
  {
   "cell_type": "code",
   "execution_count": 33,
   "id": "16bd4605",
   "metadata": {},
   "outputs": [
    {
     "name": "stdout",
     "output_type": "stream",
     "text": [
      "- T-test для групп AB:\n",
      "Значение T статистики:  0.9343198251295213\n",
      "p-value: 0.3502518\n",
      "Невозможно опровергнуть гипотезу об отсутствии разницы между группами. На заданном уровне надежности не найдено статистически значимое различие между группами.\n"
     ]
    }
   ],
   "source": [
    "print(\"- T-test для групп AB:\")\n",
    "print(\"Значение T статистики: \", t_val_ab)\n",
    "print(f\"p-value: {p_val_ab_:0.7f}\")\n",
    "\n",
    "# Проверяем есть ли изменение\n",
    "if p_val_ab_ < p_val_n:\n",
    "    print(\"Невозможно подтвердить гипотезу об отсутствии разницы между группами. Найденое различие на заданном уровне надежности может наблюдаться\")\n",
    "else:\n",
    "    print(\"Невозможно опровергнуть гипотезу об отсутствии разницы между группами. На заданном уровне надежности не найдено статистически значимое различие между группами.\")"
   ]
  },
  {
   "cell_type": "code",
   "execution_count": 34,
   "id": "7962911c",
   "metadata": {},
   "outputs": [
    {
     "name": "stdout",
     "output_type": "stream",
     "text": [
      "T-test для групп BC:\n",
      "Значение T статистики:  0.3786720714632882\n",
      "p-value: 0.7049716\n",
      "Невозможно опровергнуть гипотезу об отсутствии разницы между группами. На заданном уровне надежности не найдено статистически значимое различие между группами.\n"
     ]
    }
   ],
   "source": [
    "print(\"T-test для групп BC:\")\n",
    "print(\"Значение T статистики: \", t_val_bc)\n",
    "print(f\"p-value: {p_val_bc_:0.7f}\")\n",
    "\n",
    "# Проверяем есть ли изменение\n",
    "if p_val_bc_ < p_val_n:\n",
    "    print(\"Невозможно подтвердить гипотезу об отсутствии разницы между группами. Найденое различие на заданном уровне надежности может наблюдаться\")\n",
    "else:\n",
    "    print(\"Невозможно опровергнуть гипотезу об отсутствии разницы между группами. На заданном уровне надежности не найдено статистически значимое различие между группами.\")"
   ]
  },
  {
   "cell_type": "code",
   "execution_count": 35,
   "id": "1555aeba",
   "metadata": {},
   "outputs": [
    {
     "name": "stdout",
     "output_type": "stream",
     "text": [
      "T-test для групп AC:\n",
      "Значение T статистики:  1.164810584970887\n",
      "p-value: 0.2442347\n",
      "Невозможно опровергнуть гипотезу об отсутствии разницы между группами. На заданном уровне надежности не найдено статистически значимое различие между группами.\n"
     ]
    }
   ],
   "source": [
    "print(\"T-test для групп AC:\")\n",
    "print(\"Значение T статистики: \", t_val_ac)\n",
    "print(f\"p-value: {p_val_ac_:0.7f}\")\n",
    "\n",
    "# Проверяем есть ли изменение\n",
    "if p_val_ac_ < p_val_n:\n",
    "    print(\"Невозможно подтвердить гипотезу об отсутствии разницы между группами. Найденое различие на заданном уровне надежности может наблюдаться\")\n",
    "else:\n",
    "    print(\"Невозможно опровергнуть гипотезу об отсутствии разницы между группами. На заданном уровне надежности не найдено статистически значимое различие между группами.\")"
   ]
  },
  {
   "cell_type": "markdown",
   "id": "7faaeb76",
   "metadata": {},
   "source": [
    "## 4.2. Метод Холма <a class=\"anchor\" id=\"h4.2\"></a>\n",
    "[<font size=\"2\">(к содержанию)</font>](#to_content1.)\n",
    "\n",
    "Предпосылки:\n",
    "1. Если вариантов больше трех\n"
   ]
  },
  {
   "cell_type": "code",
   "execution_count": 36,
   "id": "6deef94e",
   "metadata": {},
   "outputs": [],
   "source": [
    "import scipy\n",
    "from scipy import stats\n",
    "import pandas as pd\n",
    "import numpy as np\n",
    "from statsmodels.sandbox.stats.multicomp import multipletests"
   ]
  },
  {
   "cell_type": "code",
   "execution_count": 37,
   "id": "443c05be",
   "metadata": {},
   "outputs": [],
   "source": [
    "k = 3 #кол-во вариантов\n",
    "n = 1000 #размер выборки\n",
    "p_val_holm = 0.05 #уровень надежности\n",
    "\n",
    "holm_a = np.random.normal(90, 15, n)\n",
    "holm_b = np.random.normal(90, 15, n)\n",
    "holm_c = np.random.normal(90, 15, n)\n",
    "\n",
    "## импорт своих значений\n",
    "# holm_a = pd.read_csv()\n",
    "# holm_b = pd.read_csv()\n",
    "# holm_c = pd.read_csv()"
   ]
  },
  {
   "cell_type": "code",
   "execution_count": 38,
   "id": "356d0a0e",
   "metadata": {},
   "outputs": [],
   "source": [
    "stat_ab, p_ab = stats.ttest_ind(holm_a, holm_b)\n",
    "\n",
    "stat_bc, p_bc = stats.ttest_ind(holm_b, holm_c)\n",
    "\n",
    "stat_ac, p_ac = stats.ttest_ind(holm_a, holm_c)"
   ]
  },
  {
   "cell_type": "code",
   "execution_count": 39,
   "id": "29535094",
   "metadata": {},
   "outputs": [
    {
     "name": "stdout",
     "output_type": "stream",
     "text": [
      "Изначальные p-value:  [0.45931736498816456, 0.5799048541477703, 0.8456747280477008]\n"
     ]
    }
   ],
   "source": [
    "print(\"Изначальные p-value: \",sorted([p_ab, p_bc, p_ac]))\n"
   ]
  },
  {
   "cell_type": "code",
   "execution_count": 40,
   "id": "68983edb",
   "metadata": {},
   "outputs": [],
   "source": [
    "h0_result, p_val_corrected, p_val, p_val_new = multipletests([p_ab, p_bc, p_ac], alpha=p_val_holm, \n",
    "                     method='holm', is_sorted = True)"
   ]
  },
  {
   "cell_type": "code",
   "execution_count": 41,
   "id": "e20be997",
   "metadata": {},
   "outputs": [
    {
     "name": "stdout",
     "output_type": "stream",
     "text": [
      "- Holm's test result:\n",
      "Результаты проверки гипотезы:  [False False False]\n",
      "Скорректированные p_value:  [1. 1. 1.]\n",
      "Невозможно опровергнуть гипотезу об отсутствии разницы между группами. На заданном уровне надежности не найдено статистически значимое различие между группами.\n",
      "Невозможно опровергнуть гипотезу об отсутствии разницы между группами. На заданном уровне надежности не найдено статистически значимое различие между группами.\n",
      "Невозможно опровергнуть гипотезу об отсутствии разницы между группами. На заданном уровне надежности не найдено статистически значимое различие между группами.\n"
     ]
    }
   ],
   "source": [
    "print(\"- Holm's test result:\")\n",
    "\n",
    "# Тестируются гипотезы p_val_corrected < p_val_holm\n",
    "print(\"Результаты проверки гипотезы: \", h0_result)\n",
    "print(\"Скорректированные p_value: \", p_val_corrected)\n",
    "\n",
    "# Проверяем есть ли изменение\n",
    "for i in p_val_corrected:\n",
    "    if i < p_val_holm:\n",
    "        print(\"Невозможно подтвердить гипотезу об отсутствии разницы между группами. Найденое различие на заданном уровне надежности может наблюдаться\")\n",
    "    else:\n",
    "        print(\"Невозможно опровергнуть гипотезу об отсутствии разницы между группами. На заданном уровне надежности не найдено статистически значимое различие между группами.\")"
   ]
  },
  {
   "cell_type": "markdown",
   "id": "71a9f83f",
   "metadata": {},
   "source": [
    "## 4.2. Метод Бенджамини — Хохберга <a class=\"anchor\" id=\"h4.3\"></a>\n",
    "[<font size=\"2\">(к содержанию)</font>](#to_content1.)\n",
    "\n",
    "Предпосылки:\n",
    "1. Если вариантов больше трех\n",
    "\n"
   ]
  },
  {
   "cell_type": "code",
   "execution_count": 42,
   "id": "88a89d2a",
   "metadata": {},
   "outputs": [],
   "source": [
    "import scipy\n",
    "from scipy import stats\n",
    "import pandas as pd\n",
    "import numpy as np\n",
    "from statsmodels.sandbox.stats.multicomp import multipletests"
   ]
  },
  {
   "cell_type": "code",
   "execution_count": 43,
   "id": "f8033d52",
   "metadata": {},
   "outputs": [],
   "source": [
    "k = 3 #кол-во вариантов\n",
    "n = 1000 #размер выборки\n",
    "p_val_benj_hohberg = 0.05 #уровень надежности\n",
    "\n",
    "benj_hohberg_a = np.random.normal(90, 20, n)\n",
    "benj_hohberg_b = np.random.normal(90, 15, n)\n",
    "benj_hohberg_c = np.random.normal(89, 20, n)\n",
    "\n",
    "## импорт своих значений\n",
    "# benj_hohberg_a = pd.read_csv()\n",
    "# benj_hohberg_b = pd.read_csv()\n",
    "# benj_hohberg_c = pd.read_csv()"
   ]
  },
  {
   "cell_type": "code",
   "execution_count": 44,
   "id": "1ae15331",
   "metadata": {},
   "outputs": [],
   "source": [
    "stat_ab_bh, p_ab_bh = stats.ttest_ind(benj_hohberg_a, benj_hohberg_b)\n",
    "\n",
    "stat_bc_bh, p_bc_bh = stats.ttest_ind(benj_hohberg_b, benj_hohberg_c)\n",
    "\n",
    "stat_ac_bh, p_ac_bh = stats.ttest_ind(benj_hohberg_a, benj_hohberg_c)"
   ]
  },
  {
   "cell_type": "code",
   "execution_count": 45,
   "id": "7cb04bc0",
   "metadata": {},
   "outputs": [
    {
     "name": "stdout",
     "output_type": "stream",
     "text": [
      "Изначальные p-value:  [0.8998749060134313, 0.9007387730504447, 0.9974684703865129]\n"
     ]
    }
   ],
   "source": [
    "print(\"Изначальные p-value: \",sorted([p_ab_bh, p_bc_bh, p_ac_bh]))"
   ]
  },
  {
   "cell_type": "code",
   "execution_count": 46,
   "id": "29f240f3",
   "metadata": {},
   "outputs": [],
   "source": [
    "h0_result_bh, p_val_corrected_bh, p_val_bh, p_val_new_bh = multipletests([p_ab, p_bc, p_ac], alpha=p_val_benj_hohberg, \n",
    "                     method='fdr_bh', is_sorted = False)"
   ]
  },
  {
   "cell_type": "code",
   "execution_count": 47,
   "id": "b3144d66",
   "metadata": {},
   "outputs": [
    {
     "name": "stdout",
     "output_type": "stream",
     "text": [
      "- BHM's test result:\n",
      "Результаты проверки гипотезы:  [False False False]\n",
      "Скорректированные p_value:  [0.84567473 0.84567473 0.84567473]\n",
      "Невозможно опровергнуть гипотезу об отсутствии разницы между группами. На заданном уровне надежности не найдено статистически значимое различие между группами.\n",
      "Невозможно опровергнуть гипотезу об отсутствии разницы между группами. На заданном уровне надежности не найдено статистически значимое различие между группами.\n",
      "Невозможно опровергнуть гипотезу об отсутствии разницы между группами. На заданном уровне надежности не найдено статистически значимое различие между группами.\n"
     ]
    }
   ],
   "source": [
    "print(\"- BHM's test result:\")\n",
    "# Тестируются гипотезы p_val_corrected < p_val_holm\n",
    "print(\"Результаты проверки гипотезы: \", h0_result_bh)\n",
    "print(\"Скорректированные p_value: \", p_val_corrected_bh)\n",
    "\n",
    "\n",
    "# Проверяем есть ли изменение\n",
    "for i in p_val_corrected_bh:\n",
    "    if i < p_val_benj_hohberg:\n",
    "        print(\"Невозможно подтвердить гипотезу об отсутствии разницы между группами. Найденое различие на заданном уровне надежности может наблюдаться\")\n",
    "    else:\n",
    "        print(\"Невозможно опровергнуть гипотезу об отсутствии разницы между группами. На заданном уровне надежности не найдено статистически значимое различие между группами.\")"
   ]
  }
 ],
 "metadata": {
  "kernelspec": {
   "display_name": "Python 3 (ipykernel)",
   "language": "python",
   "name": "python3"
  },
  "language_info": {
   "codemirror_mode": {
    "name": "ipython",
    "version": 3
   },
   "file_extension": ".py",
   "mimetype": "text/x-python",
   "name": "python",
   "nbconvert_exporter": "python",
   "pygments_lexer": "ipython3",
   "version": "3.9.12"
  }
 },
 "nbformat": 4,
 "nbformat_minor": 5
}
